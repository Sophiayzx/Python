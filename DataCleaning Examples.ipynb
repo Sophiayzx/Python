{
 "cells": [
  {
   "cell_type": "code",
   "execution_count": 9,
   "id": "76ece65a",
   "metadata": {},
   "outputs": [
    {
     "name": "stdout",
     "output_type": "stream",
     "text": [
      "    Name   Age  Salary              Email\n",
      "0   John  28.0   50000     john@gmail.com\n",
      "1  Alice  32.0   60000  alice@company.com\n",
      "2   Mike  36.0   70000   mike@hotmail.com\n",
      "3  David  40.0   62000    david@gmail.com\n",
      "4  Karen  45.0   75000    karen@yahoo.com\n"
     ]
    },
    {
     "name": "stderr",
     "output_type": "stream",
     "text": [
      "C:\\Users\\yzhux\\AppData\\Local\\Temp\\ipykernel_7400\\2425286031.py:23: FutureWarning: The default value of regex will change from True to False in a future version. In addition, single character regular expressions will *not* be treated as literal strings when regex=True.\n",
      "  df['Salary'] = df['Salary'].str.replace('$', '').str.replace(',', '').astype(int)\n"
     ]
    }
   ],
   "source": [
    "import pandas as pd\n",
    "\n",
    "# Create a sample DataFrame with dirty data\n",
    "data = {\n",
    "    'Name': ['John', 'Alice', 'Bob', 'Mike', 'Emily', 'David', 'Sara', 'Karen'],\n",
    "    'Age': [28, '32', 'twenty-five', 36, 29, 40, None, 45],\n",
    "    'Salary': ['$50,000', '$60,000', '$45,000', '$70,000', '$55,000', '$62,000', '$58,000', '$75,000'],\n",
    "    'Email': ['john@gmail.com', 'alice@company.com', 'bob@company.com', 'mike@hotmail.com', 'emily', 'david@gmail.com', 'sara@company.com', 'karen@yahoo.com']\n",
    "}\n",
    "\n",
    "df = pd.DataFrame(data)\n",
    "\n",
    "# Data Cleaning\n",
    "\n",
    "# 1. Remove rows with missing values\n",
    "df = df.dropna()\n",
    "\n",
    "# 2. Clean up the 'Age' column by removing non-numeric values and converting to integers\n",
    "df['Age'] = pd.to_numeric(df['Age'], errors='coerce')\n",
    "df = df.dropna()\n",
    "\n",
    "# 3. Clean up the 'Salary' column by removing non-numeric characters and converting to integers\n",
    "df['Salary'] = df['Salary'].str.replace('$', '').str.replace(',', '').astype(int)\n",
    "\n",
    "# 4. Remove invalid email addresses (those without '@')\n",
    "df = df[df['Email'].str.contains('@')]\n",
    "\n",
    "# 5. Reset the index after cleaning\n",
    "df = df.reset_index(drop=True)\n",
    "\n",
    "# Display the cleaned DataFrame\n",
    "print(df)"
   ]
  },
  {
   "cell_type": "code",
   "execution_count": 11,
   "id": "240567d1",
   "metadata": {},
   "outputs": [
    {
     "name": "stdout",
     "output_type": "stream",
     "text": [
      "    Name   Age  Salary\n",
      "0   John  28.0   50000\n",
      "1  Alice  32.0   60000\n",
      "2    Bob   NaN   45000\n",
      "3   Mike  36.0   70000\n",
      "4  Emily  29.0   55000\n"
     ]
    },
    {
     "name": "stderr",
     "output_type": "stream",
     "text": [
      "C:\\Users\\yzhux\\AppData\\Local\\Temp\\ipykernel_7400\\165538600.py:21: FutureWarning: The default value of regex will change from True to False in a future version. In addition, single character regular expressions will *not* be treated as literal strings when regex=True.\n",
      "  df['Salary'] = df['Salary'].str.replace('$', '').str.replace(',', '').astype(int)\n"
     ]
    }
   ],
   "source": [
    "import pandas as pd\n",
    "\n",
    "# Create a sample DataFrame\n",
    "data = {\n",
    "    'Name': [' John ', 'Alice', ' Bob ', ' Mike ', ' Emily '],\n",
    "    'Age': ['28', '32', 'twenty-five', '36', '29'],\n",
    "    'Salary': ['$50,000', '$60,000', '$45,000', '$70,000', '$55,000'],\n",
    "}\n",
    "\n",
    "df = pd.DataFrame(data)\n",
    "\n",
    "# Data Cleaning - Working with Columns\n",
    "\n",
    "# 1. Remove leading and trailing whitespaces from the 'Name' column\n",
    "df['Name'] = df['Name'].str.strip()\n",
    "\n",
    "# 2. Convert the 'Age' column to integers, handling non-numeric values\n",
    "df['Age'] = pd.to_numeric(df['Age'], errors='coerce')\n",
    "\n",
    "# 3. Remove non-numeric characters and convert the 'Salary' column to integers\n",
    "df['Salary'] = df['Salary'].str.replace('$', '').str.replace(',', '').astype(int)\n",
    "\n",
    "# Display the cleaned DataFrame\n",
    "print(df)\n"
   ]
  },
  {
   "cell_type": "code",
   "execution_count": null,
   "id": "62157cde",
   "metadata": {},
   "outputs": [],
   "source": []
  }
 ],
 "metadata": {
  "kernelspec": {
   "display_name": "Python 3 (ipykernel)",
   "language": "python",
   "name": "python3"
  },
  "language_info": {
   "codemirror_mode": {
    "name": "ipython",
    "version": 3
   },
   "file_extension": ".py",
   "mimetype": "text/x-python",
   "name": "python",
   "nbconvert_exporter": "python",
   "pygments_lexer": "ipython3",
   "version": "3.9.13"
  }
 },
 "nbformat": 4,
 "nbformat_minor": 5
}
