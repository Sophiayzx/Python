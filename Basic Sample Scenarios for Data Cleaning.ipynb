{
 "cells": [
  {
   "cell_type": "markdown",
   "id": "751eea8e",
   "metadata": {},
   "source": [
    "Scenario 1: Handling Missing Values\n",
    "\n",
    "Suppose you have a dataset with missing values in the 'Age' column. You can fill the missing values with the mean age:"
   ]
  },
  {
   "cell_type": "code",
   "execution_count": 1,
   "id": "7ecd30ba",
   "metadata": {},
   "outputs": [],
   "source": [
    "import pandas as pd\n",
    "\n",
    "data = {\n",
    "    'Name': ['Alice', 'Bob', 'Charlie', 'David'],\n",
    "    'Age': [25, 30, None, 28],\n",
    "    'City': ['New York', 'San Francisco', 'Los Angeles', 'Chicago']\n",
    "}\n",
    "\n",
    "df = pd.DataFrame(data)\n",
    "df['Age'].fillna(df['Age'].mean(), inplace=True)\n"
   ]
  },
  {
   "cell_type": "markdown",
   "id": "dfacdc74",
   "metadata": {},
   "source": [
    "Scenario 2: Removing Duplicates\n",
    "    \n",
    "If you have duplicate rows in your dataset, you can remove them:"
   ]
  },
  {
   "cell_type": "code",
   "execution_count": 3,
   "id": "1f18f8f9",
   "metadata": {},
   "outputs": [],
   "source": [
    "import pandas as pd\n",
    "\n",
    "data = {\n",
    "    'Name': ['Alice', 'Bob', 'Alice', 'David'],\n",
    "    'Age': [25, 30, 25, 28],\n",
    "    'City': ['New York', 'San Francisco', 'New York', 'Chicago']\n",
    "}\n",
    "\n",
    "df = pd.DataFrame(data)\n",
    "df = df.drop_duplicates()"
   ]
  },
  {
   "cell_type": "markdown",
   "id": "737d94d3",
   "metadata": {},
   "source": [
    "Scenario 3: Standardizing Text Data\n",
    "\n",
    "You may need to standardize text data, such as capitalizing all names in a 'Name' column:"
   ]
  },
  {
   "cell_type": "code",
   "execution_count": 4,
   "id": "7f75f1a6",
   "metadata": {},
   "outputs": [],
   "source": [
    "import pandas as pd\n",
    "\n",
    "data = {\n",
    "    'Name': ['alice', 'Bob', 'charlie', 'DAVID'],\n",
    "    'Age': [25, 30, 28, 32],\n",
    "}\n",
    "\n",
    "df = pd.DataFrame(data)\n",
    "df['Name'] = df['Name'].str.capitalize()"
   ]
  },
  {
   "cell_type": "markdown",
   "id": "452ca6e2",
   "metadata": {},
   "source": [
    "Scenario 4: Converting Data Types\n",
    "\n",
    "If a column contains data in the wrong data type, you can convert it:"
   ]
  },
  {
   "cell_type": "code",
   "execution_count": 5,
   "id": "04d53057",
   "metadata": {},
   "outputs": [],
   "source": [
    "import pandas as pd\n",
    "\n",
    "data = {\n",
    "    'Name': ['Alice', 'Bob', 'Charlie', 'David'],\n",
    "    'Age': ['25', '30', '28', '32']\n",
    "}\n",
    "\n",
    "df = pd.DataFrame(data)\n",
    "df['Age'] = df['Age'].astype(int)"
   ]
  },
  {
   "cell_type": "markdown",
   "id": "d2742cb6",
   "metadata": {},
   "source": [
    "Scenario 5: Removing Outliers\n",
    "    \n",
    "To remove outliers in a numeric column, you can define a range and filter the data:"
   ]
  },
  {
   "cell_type": "code",
   "execution_count": 6,
   "id": "8bc7ef2a",
   "metadata": {},
   "outputs": [],
   "source": [
    "import pandas as pd\n",
    "\n",
    "data = {\n",
    "    'Name': ['Alice', 'Bob', 'Charlie', 'David'],\n",
    "    'Age': [25, 30, 110, 28]\n",
    "}\n",
    "\n",
    "df = pd.DataFrame(data)\n",
    "df = df[(df['Age'] >= 0) & (df['Age'] <= 100)]"
   ]
  },
  {
   "cell_type": "markdown",
   "id": "2d06fa93",
   "metadata": {},
   "source": [
    "Scenario 6: Handling Inconsistent Text Data\n",
    "    \n",
    "To clean inconsistent text data, you can remove leading and trailing whitespaces from a column:"
   ]
  },
  {
   "cell_type": "code",
   "execution_count": 7,
   "id": "1d8ed5a7",
   "metadata": {},
   "outputs": [],
   "source": [
    "import pandas as pd\n",
    "\n",
    "data = {\n",
    "    'City': ['New York', 'San Francisco ', ' Los Angeles', ' Chicago ']\n",
    "}\n",
    "\n",
    "df = pd.DataFrame(data)\n",
    "df['City'] = df['City'].str.strip()"
   ]
  },
  {
   "cell_type": "code",
   "execution_count": null,
   "id": "ab93b9ae",
   "metadata": {},
   "outputs": [
    {
     "name": "stdout",
     "output_type": "stream",
     "text": [
      "\n",
      "To-Do List Application\n",
      "1. Add Task\n",
      "2. View Tasks\n",
      "3. Mark Task as Done\n",
      "4. Remove Task\n",
      "5. Quit\n"
     ]
    }
   ],
   "source": [
    "# To-Do List Application\n",
    "\n",
    "# Create an empty list to store tasks\n",
    "tasks = []\n",
    "\n",
    "# Function to add a task\n",
    "def add_task(task):\n",
    "    tasks.append(task)\n",
    "    print(f'Task \"{task}\" added to the To-Do list.')\n",
    "\n",
    "# Function to view all tasks\n",
    "def view_tasks():\n",
    "    if not tasks:\n",
    "        print('Your To-Do list is empty.')\n",
    "    else:\n",
    "        print('To-Do List:')\n",
    "        for i, task in enumerate(tasks, start=1):\n",
    "            print(f'{i}. {task}')\n",
    "\n",
    "# Function to mark a task as done\n",
    "def mark_done(task_number):\n",
    "    if 1 <= task_number <= len(tasks):\n",
    "        task = tasks[task_number - 1]\n",
    "        print(f'Task \"{task}\" marked as done.')\n",
    "        tasks.pop(task_number - 1)\n",
    "    else:\n",
    "        print('Invalid task number.')\n",
    "\n",
    "# Function to remove a task\n",
    "def remove_task(task_number):\n",
    "    if 1 <= task_number <= len(tasks):\n",
    "        task = tasks[task_number - 1]\n",
    "        print(f'Task \"{task}\" removed from the To-Do list.')\n",
    "        tasks.pop(task_number - 1)\n",
    "    else:\n",
    "        print('Invalid task number.')\n",
    "\n",
    "# Main loop\n",
    "while True:\n",
    "    print('\\nTo-Do List Application')\n",
    "    print('1. Add Task')\n",
    "    print('2. View Tasks')\n",
    "    print('3. Mark Task as Done')\n",
    "    print('4. Remove Task')\n",
    "    print('5. Quit')\n",
    "    \n",
    "    choice = input('Enter your choice: ')\n",
    "    \n",
    "    if choice == '1':\n",
    "        task = input('Enter the task: ')\n",
    "        add_task(task)\n",
    "    elif choice == '2':\n",
    "        view_tasks()\n",
    "    elif choice == '3':\n",
    "        view_tasks()\n",
    "        task_number = int(input('Enter the task number to mark as done: '))\n",
    "        mark_done(task_number)\n",
    "    elif choice == '4':\n",
    "        view_tasks()\n",
    "        task_number = int(input('Enter the task number to remove: '))\n",
    "        remove_task(task_number)\n",
    "    elif choice == '5':\n",
    "        print('Goodbye!')\n",
    "        break\n",
    "    else:\n",
    "        print('Invalid choice. Please select a valid option.')"
   ]
  },
  {
   "cell_type": "code",
   "execution_count": null,
   "id": "2402317e",
   "metadata": {},
   "outputs": [],
   "source": []
  }
 ],
 "metadata": {
  "kernelspec": {
   "display_name": "Python 3 (ipykernel)",
   "language": "python",
   "name": "python3"
  },
  "language_info": {
   "codemirror_mode": {
    "name": "ipython",
    "version": 3
   },
   "file_extension": ".py",
   "mimetype": "text/x-python",
   "name": "python",
   "nbconvert_exporter": "python",
   "pygments_lexer": "ipython3",
   "version": "3.9.13"
  }
 },
 "nbformat": 4,
 "nbformat_minor": 5
}
