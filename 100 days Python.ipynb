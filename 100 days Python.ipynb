{
 "cells": [
  {
   "cell_type": "code",
   "execution_count": 1,
   "id": "8ad85e1c",
   "metadata": {},
   "outputs": [
    {
     "name": "stdout",
     "output_type": "stream",
     "text": [
      "B\n"
     ]
    }
   ],
   "source": [
    "score = 67\n",
    "if score < 80 and score > 70:\n",
    "    print(\"A\")\n",
    "elif score < 90 or score > 80:\n",
    "    print(\"B\")\n",
    "elif score > 60:\n",
    "    print(\"C\")\n",
    "else:\n",
    "    print(\"D\")"
   ]
  },
  {
   "cell_type": "code",
   "execution_count": 3,
   "id": "186bb447",
   "metadata": {},
   "outputs": [
    {
     "name": "stdout",
     "output_type": "stream",
     "text": [
      "15\n"
     ]
    }
   ],
   "source": [
    "def outer_function(a, b):\n",
    "    def inner_function(c, d):\n",
    "        return c + d\n",
    "    return inner_function(a, b)\n",
    " \n",
    "result = outer_function(5, 10)\n",
    "print(result)"
   ]
  },
  {
   "cell_type": "code",
   "execution_count": 4,
   "id": "706b5e37",
   "metadata": {},
   "outputs": [
    {
     "name": "stdout",
     "output_type": "stream",
     "text": [
      "20 4 12\n"
     ]
    }
   ],
   "source": [
    "def foo(a, b=4, c=6):\n",
    "    print(a, b, c)\n",
    " \n",
    "foo(20, c=12)"
   ]
  },
  {
   "cell_type": "code",
   "execution_count": 5,
   "id": "6f27e530",
   "metadata": {},
   "outputs": [
    {
     "name": "stdout",
     "output_type": "stream",
     "text": [
      "4 (7, 3, 0) {'x': 10, 'y': 64}\n"
     ]
    }
   ],
   "source": [
    "def all_aboard(a, *args, **kw): \n",
    "    print(a, args, kw)\n",
    " \n",
    "all_aboard(4, 7, 3, 0, x=10, y=64)\n"
   ]
  },
  {
   "cell_type": "code",
   "execution_count": 6,
   "id": "c84cde68",
   "metadata": {},
   "outputs": [
    {
     "name": "stdout",
     "output_type": "stream",
     "text": [
      "[5, 11, 37]\n"
     ]
    }
   ],
   "source": [
    "numbers = [1, 1, 2, 3, 5, 8, 13, 21, 34, 55]\n",
    "result = [num + 3 for num in numbers if num % 2 == 0]\n",
    "print(result)"
   ]
  },
  {
   "cell_type": "code",
   "execution_count": 1,
   "id": "36a6776a",
   "metadata": {},
   "outputs": [
    {
     "name": "stdout",
     "output_type": "stream",
     "text": [
      "What is your name? yoyo\n",
      "Hello, yoyo!\n"
     ]
    }
   ],
   "source": [
    "name = input(\"What is your name? \")\n",
    "print(\"Hello, \" + name + \"!\")"
   ]
  },
  {
   "cell_type": "code",
   "execution_count": 3,
   "id": "5cb1a2f3",
   "metadata": {},
   "outputs": [
    {
     "name": "stdout",
     "output_type": "stream",
     "text": [
      "70100\n"
     ]
    }
   ],
   "source": [
    "print(\"70\"+\"100\")"
   ]
  },
  {
   "cell_type": "code",
   "execution_count": 5,
   "id": "016e9def",
   "metadata": {},
   "outputs": [
    {
     "name": "stdout",
     "output_type": "stream",
     "text": [
      "70100\n"
     ]
    }
   ],
   "source": [
    "print(str(70)+str(100))"
   ]
  },
  {
   "cell_type": "code",
   "execution_count": 6,
   "id": "e5dcf5b3",
   "metadata": {},
   "outputs": [
    {
     "name": "stdout",
     "output_type": "stream",
     "text": [
      "170\n"
     ]
    }
   ],
   "source": [
    "print(70+100)"
   ]
  },
  {
   "cell_type": "code",
   "execution_count": 10,
   "id": "91d4286d",
   "metadata": {},
   "outputs": [
    {
     "name": "stdout",
     "output_type": "stream",
     "text": [
      "100\n"
     ]
    }
   ],
   "source": [
    "print(int(100.90))"
   ]
  },
  {
   "cell_type": "code",
   "execution_count": null,
   "id": "629135b1",
   "metadata": {},
   "outputs": [],
   "source": []
  },
  {
   "cell_type": "code",
   "execution_count": 13,
   "id": "8bd22401",
   "metadata": {},
   "outputs": [
    {
     "name": "stdout",
     "output_type": "stream",
     "text": [
      "3.0\n"
     ]
    }
   ],
   "source": [
    "print(3*(3+3)/3-3)\n"
   ]
  },
  {
   "cell_type": "code",
   "execution_count": 15,
   "id": "ddf7a503",
   "metadata": {},
   "outputs": [
    {
     "name": "stdout",
     "output_type": "stream",
     "text": [
      "enter your height in m: 80\n",
      "enter your weight in kg: 5\n",
      "0\n"
     ]
    }
   ],
   "source": [
    "height = input(\"enter your height in m: \")\n",
    "weight = input(\"enter your weight in kg: \")\n",
    "# 🚨 Don't change the code above 👆\n",
    "\n",
    "#Write your code below this line 👇\n",
    "bmi = int(weight) / float(height) ** 2\n",
    "bmi_int = int(bmi)\n",
    "print(bmi_int)"
   ]
  },
  {
   "cell_type": "code",
   "execution_count": 27,
   "id": "41c111ac",
   "metadata": {},
   "outputs": [
    {
     "name": "stdout",
     "output_type": "stream",
     "text": [
      "2.67\n"
     ]
    }
   ],
   "source": [
    "print(round((8/3),2))"
   ]
  },
  {
   "cell_type": "code",
   "execution_count": 18,
   "id": "75906d55",
   "metadata": {},
   "outputs": [
    {
     "name": "stdout",
     "output_type": "stream",
     "text": [
      "2 3\n"
     ]
    }
   ],
   "source": [
    "print(int(8/3),3)"
   ]
  },
  {
   "cell_type": "code",
   "execution_count": 28,
   "id": "abda0fea",
   "metadata": {},
   "outputs": [
    {
     "name": "stdout",
     "output_type": "stream",
     "text": [
      "2\n"
     ]
    }
   ],
   "source": [
    "print(8//3)"
   ]
  },
  {
   "cell_type": "code",
   "execution_count": 46,
   "id": "5fb1d7fd",
   "metadata": {},
   "outputs": [
    {
     "name": "stdout",
     "output_type": "stream",
     "text": [
      "you have 1.8\n"
     ]
    }
   ],
   "source": [
    "score = 0\n",
    "height = 1.8\n",
    "\n",
    "print((\"you have \")+str(height))"
   ]
  },
  {
   "cell_type": "code",
   "execution_count": 50,
   "id": "20b54f7d",
   "metadata": {},
   "outputs": [
    {
     "name": "stdout",
     "output_type": "stream",
     "text": [
      "youe have 0\n"
     ]
    }
   ],
   "source": [
    "score = 0\n",
    "height = 1.8\n",
    "print(f\"youe have {score}\")"
   ]
  },
  {
   "cell_type": "code",
   "execution_count": 64,
   "id": "34c8952a",
   "metadata": {},
   "outputs": [
    {
     "name": "stdout",
     "output_type": "stream",
     "text": [
      "What is your current age? 80\n",
      "you have 10\n"
     ]
    }
   ],
   "source": [
    "age = input(\"What is your current age? \")\n",
    "days = (90-int(age))\n",
    "print(f\"you have {days}\")"
   ]
  },
  {
   "cell_type": "code",
   "execution_count": 2,
   "id": "f08f86b1",
   "metadata": {},
   "outputs": [
    {
     "name": "stdout",
     "output_type": "stream",
     "text": [
      "total bill?$50\n",
      "what is the percentage? 10\n",
      "how many ppl?5\n",
      "55.0\n",
      "11.0\n"
     ]
    }
   ],
   "source": [
    "bill = input (\"total bill?$\")\n",
    "percentage =input (\"what is the percentage? \")\n",
    "ppl  = input (\"how many ppl?\")\n",
    "total = int(bill)*int(percentage)/100+int(bill)\n",
    "each = int(total)/int(ppl)\n",
    "print(total)\n",
    "print(each)\n"
   ]
  },
  {
   "cell_type": "code",
   "execution_count": 12,
   "id": "9d550c42",
   "metadata": {},
   "outputs": [
    {
     "name": "stdout",
     "output_type": "stream",
     "text": [
      "9\n",
      "0.8451499840284962\n"
     ]
    }
   ],
   "source": [
    "import random\n",
    "random_integer = random.randint(0,9)\n",
    "print(random_integer)\n",
    "random_float = random.random()\n",
    "print(random_float)\n"
   ]
  },
  {
   "cell_type": "code",
   "execution_count": 5,
   "id": "c09f1d7f",
   "metadata": {},
   "outputs": [
    {
     "name": "stdout",
     "output_type": "stream",
     "text": [
      "Give me everybody's names, separated by a comma. drfg,fg,ds\n",
      "['drfg,fg,ds']\n",
      "r\n"
     ]
    }
   ],
   "source": [
    "names_string = input(\"Give me everybody's names, separated by a comma. \")\n",
    "#names = names_string.split(\", \")\n",
    "print([names_string])\n",
    "print(names_string[1])"
   ]
  },
  {
   "cell_type": "code",
   "execution_count": null,
   "id": "c4522519",
   "metadata": {},
   "outputs": [],
   "source": [
    "names_string = input(\"Give me everybody's names, separated by a comma. \")\n",
    "names = names_string.split(\", \")\n",
    "print([names])\n",
    "print(names[1])"
   ]
  },
  {
   "cell_type": "code",
   "execution_count": null,
   "id": "a129fe4c",
   "metadata": {},
   "outputs": [],
   "source": [
    "fruits = [\"Strawberries\", \"Nectarines\", \"Apples\", \"Grapes\", \"Peaches\", \"Cherries\", \"Pears\"]\n",
    "vegetables = [\"Spinach\", \"Kale\", \"Tomatoes\", \"Celery\", \"Potatoes\"]\n",
    " \n",
    "dirty_dozen = [fruits, vegetables]\n",
    " \n",
    "print(dirty_dozen)"
   ]
  },
  {
   "cell_type": "code",
   "execution_count": null,
   "id": "e31e41c7",
   "metadata": {},
   "outputs": [],
   "source": [
    "fruits = [\"Strawberries\", \"Nectarines\", \"Apples\", \"Grapes\", \"Peaches\", \"Cherries\", \"Pears\"]\n",
    "vegetables = [\"Spinach\", \"Kale\", \"Tomatoes\", \"Celery\", \"Potatoes\"]\n",
    " \n",
    "dirty_dozen = [fruits, vegetables]\n",
    " \n",
    "print(dirty_dozen)"
   ]
  },
  {
   "cell_type": "code",
   "execution_count": null,
   "id": "26207397",
   "metadata": {},
   "outputs": [],
   "source": [
    "fruits = [\"Strawberries\", \"Nectarines\", \"Apples\", \"Grapes\", \"Peaches\", \"Cherries\", \"Pears\"]\n",
    "vegetables = [\"Spinach\", \"Kale\", \"Tomatoes\", \"Celery\", \"Potatoes\"]\n",
    " \n",
    "dirty_dozen = [fruits, vegetables]\n",
    " \n",
    "print(dirty_dozen)"
   ]
  },
  {
   "cell_type": "code",
   "execution_count": 3,
   "id": "b5608082",
   "metadata": {},
   "outputs": [
    {
     "name": "stdout",
     "output_type": "stream",
     "text": [
      "0\n"
     ]
    }
   ],
   "source": [
    "my_list = [1, 2, 3, 2, 4, 2, 5]\n",
    "\n",
    "print(count_of_twos)"
   ]
  },
  {
   "cell_type": "code",
   "execution_count": 12,
   "id": "3771fe52",
   "metadata": {},
   "outputs": [
    {
     "name": "stdout",
     "output_type": "stream",
     "text": [
      "The largest number in the list is: 90\n"
     ]
    }
   ],
   "source": [
    "my_list = [10, 20, 30, 40, 90]\n",
    "\n",
    "xx = 0 # Initialize max_num to the first element of the list\n",
    "\n",
    "for num in my_list:\n",
    "    if num > xx:\n",
    "        xx = num\n",
    "\n",
    "print(f\"The largest number in the list is: {xx}\")"
   ]
  },
  {
   "cell_type": "code",
   "execution_count": 23,
   "id": "241961be",
   "metadata": {},
   "outputs": [
    {
     "name": "stdout",
     "output_type": "stream",
     "text": [
      "2\n",
      "4\n",
      "6\n",
      "8\n",
      "10\n",
      "12\n",
      "14\n",
      "16\n",
      "18\n",
      "20\n",
      "22\n",
      "24\n",
      "26\n",
      "28\n",
      "30\n",
      "32\n",
      "34\n",
      "36\n",
      "38\n",
      "40\n",
      "42\n",
      "44\n",
      "46\n",
      "48\n",
      "50\n",
      "52\n",
      "54\n",
      "56\n",
      "58\n",
      "60\n",
      "62\n",
      "64\n",
      "66\n",
      "68\n",
      "70\n",
      "72\n",
      "74\n",
      "76\n",
      "78\n",
      "80\n",
      "82\n",
      "84\n",
      "86\n",
      "88\n",
      "90\n",
      "92\n",
      "94\n",
      "96\n",
      "98\n",
      "100\n"
     ]
    }
   ],
   "source": [
    "for number in range (2,101,2):\n",
    "    print(number)"
   ]
  },
  {
   "cell_type": "code",
   "execution_count": 26,
   "id": "cc78b574",
   "metadata": {},
   "outputs": [
    {
     "name": "stdout",
     "output_type": "stream",
     "text": [
      "banana\n"
     ]
    }
   ],
   "source": [
    "import random\n",
    "my_list = ['apple', 'banana', 'orange']\n",
    "random_item = random.choice(my_list)  # Selects a random element from the list\n",
    "print(random_item)"
   ]
  },
  {
   "cell_type": "code",
   "execution_count": 31,
   "id": "a191a7f5",
   "metadata": {},
   "outputs": [
    {
     "name": "stdout",
     "output_type": "stream",
     "text": [
      "how many letters?3\n",
      "how many numbers?3\n",
      "a\n",
      "a\n",
      "c\n"
     ]
    }
   ],
   "source": [
    "import random\n",
    "letters = ['a','b','c','d']\n",
    "numbers = ['1','2','3','4']\n",
    "nr_letters = int(input(\"how many letters?\"))\n",
    "nr_numbers = int(input(\"how many numbers?\"))\n",
    "\n",
    "for char in range(1, nr_letters + 1):\n",
    "    random_char = random.choice(letters)\n",
    "    print(random_char)\n"
   ]
  },
  {
   "cell_type": "code",
   "execution_count": 30,
   "id": "92888f14",
   "metadata": {},
   "outputs": [
    {
     "name": "stdout",
     "output_type": "stream",
     "text": [
      "grape\n"
     ]
    }
   ],
   "source": [
    "import random\n",
    "\n",
    "fruits = ['apple', 'banana', 'cherry', 'durian', 'elderberry', 'fig', 'grape']\n",
    "random_fruit = random.choice(fruits)\n",
    "\n",
    "print(random_fruit)"
   ]
  },
  {
   "cell_type": "code",
   "execution_count": 32,
   "id": "521e4471",
   "metadata": {},
   "outputs": [
    {
     "name": "stdout",
     "output_type": "stream",
     "text": [
      "yoyo\n"
     ]
    }
   ],
   "source": [
    "def my_function():\n",
    "    print (\"yoyo\")\n",
    "    \n",
    "my_function()"
   ]
  },
  {
   "cell_type": "code",
   "execution_count": 51,
   "id": "f7bdb6ae",
   "metadata": {},
   "outputs": [
    {
     "name": "stdout",
     "output_type": "stream",
     "text": [
      "sop london\n",
      "yo\n",
      "hi\n"
     ]
    }
   ],
   "source": [
    "def greet(name,location):\n",
    "    print(name +location)\n",
    "    print(\"yo\")\n",
    "    print(\"hi\")\n",
    "greet(\"sop\",\" london\")"
   ]
  },
  {
   "cell_type": "code",
   "execution_count": 55,
   "id": "8d8e3944",
   "metadata": {},
   "outputs": [
    {
     "name": "stdout",
     "output_type": "stream",
     "text": [
      "Soplondon\n",
      "yo\n",
      "hi\n"
     ]
    }
   ],
   "source": [
    "greet(location = \"london\", name = \"Sop\")"
   ]
  },
  {
   "cell_type": "code",
   "execution_count": null,
   "id": "6b218b57",
   "metadata": {},
   "outputs": [],
   "source": []
  }
 ],
 "metadata": {
  "kernelspec": {
   "display_name": "Python 3 (ipykernel)",
   "language": "python",
   "name": "python3"
  },
  "language_info": {
   "codemirror_mode": {
    "name": "ipython",
    "version": 3
   },
   "file_extension": ".py",
   "mimetype": "text/x-python",
   "name": "python",
   "nbconvert_exporter": "python",
   "pygments_lexer": "ipython3",
   "version": "3.9.13"
  }
 },
 "nbformat": 4,
 "nbformat_minor": 5
}
